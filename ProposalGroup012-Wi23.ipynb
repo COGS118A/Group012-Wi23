{
 "cells": [
  {
   "cell_type": "markdown",
   "metadata": {},
   "source": [
    "# COGS 118A- Project Proposal"
   ]
  },
  {
   "cell_type": "markdown",
   "metadata": {},
   "source": [
    "# Project Description\n",
    "\n",
    "You will design and execute a machine learning project. There are a few constraints on the nature of the allowed project. \n",
    "- The problem addressed will not be a \"toy problem\" or \"common training students problem\" like mtcars, iris, palmer penguins etc.\n",
    "- The dataset will have >1k observations and >5 variables. I'd prefer more like >10k observations and >10 variables. A general rule is that if you have >100x more observations than variables, your solution will likely generalize a lot better. The goal of training a supervised machine learning model is to learn the underlying pattern in a dataset in order to generalize well to unseen data, so choosing a large dataset is very important.\n",
    "\n",
    "- The project will include a model selection and/or feature selection component where you will be looking for the best setup to maximize the performance of your ML system.\n",
    "- You will evaluate the performance of your ML system using more than one appropriate metric\n",
    "- You will be writing a report describing and discussing these accomplishments\n"
   ]
  },
  {
   "cell_type": "markdown",
   "metadata": {},
   "source": [
    "# Names\n",
    "\n",
    "- Grant Duntugan\n",
    "- Jesse Sanchez Villegas\n",
    "- Isabella Anderson\n",
    "- Trent Barker"
   ]
  },
  {
   "cell_type": "markdown",
   "metadata": {},
   "source": [
    "# Abstract \n",
    "Telescopes are constantly collecting data and observing a variety of characteristics relating to stars in an effort to classify as many stars as possible. Stellar spectral types cannot be directly determined; rather, indirect measurements of temperature by B-V color and luminosity by apparent magnitude (and absolute magnitude when distance from Earth to the star is known) may be used to classify the type of star and the stage of its lifetime it is in.\n",
    "Machine learning could play a key role in quickly predicting the type of star given B-V color, parallax, and apparent magnitude. In this problem, we seek to correctly classify a star as a dwarf star or giant star based off of features that will be outlined in the Data section. We plan to test the performance of a few models to determine which algorithm performs the best in correctly classifying spectral type.\n",
    "\n",
    "Being able to categorize stars on spectral features is an important concept in astronomy as it allows us to understand more about individual stars, stellar evolution, the environment surrounding these stars, and even estimating the viability of life on exoplanets that may orbit these stars. The importance of knowing stellar classification and its relation to habitability of exoplanets is of particular importance in the search for extraterrestrial life. It is thought that only stars of certain spectral types may promote an environment conducive to life in orbiting exoplanets, so understanding spectral types has very important applications in many domains of astronomy and astrophysics.\n",
    "\n",
    "Therefore, given that it is difficult to directly measure a distant star's spectral type, it is important to use spectral measurements that we can get easily (color, apparent magnitude, parallax) to be able to classify stars into the category 'dwarf' or 'giant.'\n",
    "\n",
    "Our goal of this project is to find a machine learning system that can accurately predict the type of star (giant or dwarf) given B-V color, apparent magnitude, and distance from the Earth to the star (parallax). Our performance/ success will be measured by comparing our predicted classifications to the true classifications."
   ]
  },
  {
   "cell_type": "markdown",
   "metadata": {},
   "source": [
    "# Background\n",
    "\n",
    "Stellar Classification background: Stars are classified based upon spectral characteristics including temperature and luminosity. Stars are first characterized by the Morgan-Keenan system by letters O B A F G K M, with O stars being the hottest and M stars being the coolest. There are well-defined temperature ranges that distinguish the types of stars: O stars have temperatures above 25,000K, B stars have ranges between 10,000 - 25,000 K, A stars between 7,500 -10,000 K, F stars 6,000 - 7,500 K, G stars (including the Sun) between 5,000 - 6,000 K, K stars between 3,500 - 5,000 K, and M stars have temperatures below 3,500 K. Letters are further divided into 10 more subclasses between 0-9 by temperature. For example, an A0 star is hotter than an A9 star. Finally, stars are classified by luminosity class, which determines a specific stage in the star's lifetime. A supergiant is denoted by Ia0, Ia, Iab, or Ib. A giant star has luminosity class II, III, or IV. The vast majority of stars are Main Sequence stars, which are called dwarf stars. Main sequence stars are denoted by the letter V. Additional dwarf classes are subdwarfs (denoted VI) and white dwarfs (VII). For example, our Sun is a G2V star which means it is a relatively hot G star on the main sequence. Another example is an K0III which is a giant hot K star.\n",
    "\n",
    "For the sake of this project, a 'dwarf' star includes main sequence stars, subdwarfs, and white dwarfs. A 'giant' star includes supergiants and giants. While it would be ideal to try to predict the exact luminosity class (i.e. predict if a star is specifically a hypergiant or white dwarf or main sequence star etc), there is a disproportionate amount of data for the different spectral types. Since it is estimated that 90% of the stars in the universe are main sequence stars, stellar datasets are dominated by luminosity class 'V' stars and there are far less instances of other classes such as subgiants, giants, subdwarfs, etc. Therefore it makes more sense to group stars into the classes 'giant' and 'dwarf' to be able to have much more data to train and test on rather than splitting the dataset into sub-sets of different luminosity classes.\n",
    "\n",
    "Our aim to find a machine learning system that can correctly classify stars as 'giant' or 'dwarf' has important applications to astronomy as it allows for stars to be quickly classified when observations of their B-V color or apparent magnitude and parallax are made. Taking these indirect measures of stars and using them to predict spectral type is important since we aren't able to directly measure the spectral type of stars. Due to the rapid influx of new observations from space-based and ground-based telescopes, it would be mind-numbing to have to classify each newly identified stellar body manually, which was how it was done for quite some time<a name=\"Mahalakshmi\"></a>[<sup>[2]</sup>](#Mahalakshminote). As the number of our stellar observations explodes with the trend of big data, there is an ever growing need to find and develop classifier systems that are both accurate and efficient<a name=\"Kong\"></a>[<sup>[3]</sup>](#Kongnote).\n"
   ]
  },
  {
   "cell_type": "markdown",
   "metadata": {},
   "source": [
    "# Problem Statement\n",
    "\n",
    "\n",
    "We are trying to classify a star as a dwarf star or a giant star given indirect measures of its luminosity (apparent magnitude, absolute magnitude), and temperature (B-V color). Within the category 'dwarf' lies main sequence stars (the vast majority of stars are main sequence stars), red dwarfs, and white dwarfs. Within the category 'giant' lies supergiants, hypergiants, subgiants and giants. Since we are looking at stars and the chances of them extinguishing within our lifetime is essentially zero, observations should be replicable, and the star class is dependent on several variables but also with the star’s current stage of life. This means there can be different classifications of the same star given how far in time we replicate the problem, but given that stars live between 10 million years and 10s of billions of years, the results should be replicable in our lifetimes and many to come.\n",
    "\n",
    "This problem is highly replicable as it may be applicable to any project that uses indirect telescopic measurements to try to classify stars based on spectral type. For example, one can determine whether a star is a dwarf or giant if temperature of the star and radius is known. This is an easy calculation if one has the data, but the issue is that specific measures of radius and temperature is often very difficult to observe even with modern telescopes. B-V color, which is the difference in the B magnitude and visual magnitude of the star, is a good indicator of temperature and is far easier to measure than the actual temperature of the star. For example, the B-V index of a hot star is close to 0 or in the negatives, while the B-V color index of a cool star is closer to 2. Additionally, if we know the distance to the star from Earth (known as parallax, measured in parsecs (1pc = 2.086E16 m)) and the apparent magnitude of the star, we can determine the absolute magnitude of the star which is a good indicator of luminosity. A negative absolute magnitude means the star is very luminous (-10 is the most luminous/brightest) while an absolute magnitude near 15 is the faintest. Hence these two are indirect measures of spectral properties of stars and since they are easier to measure than things such as radius/temperature/mass etc, they provide an interesting way to predict spectral types in a far more accessible way."
   ]
  },
  {
   "cell_type": "markdown",
   "metadata": {},
   "source": [
    "# Data\n",
    "\n",
    "Our dataset will be from this link: https://www.kaggle.com/datasets/vinesmsuic/star-categorization-giants-and-dwarfs\n",
    "There are 7 total variables and 39552 observations. Each observation consists of the following features:\n",
    "\n",
    "- Vmag is the apparent magnitude of the star. \n",
    "\n",
    "- Amag Absolute Magnitude is a better measure of Vmag.\n",
    "\n",
    "- Plx is parallax (distance between star and earth) in units of parsecs (3.086E19m)\n",
    "\n",
    "- e_Plx is standard error of parallax, the dataset says to drop the row if the error is too high\n",
    "\n",
    "- B-V color index is sort of a measure of temperature, so a really hot star has a B-V color near 0 and a very cool star has B-V color near 2.\n",
    "\n",
    "- SpType Spectral Type of the star\n",
    "\n",
    "- TargetClass: 0 if dwarf, 1 if giant. A dwarf star would be V, VI, VII classifications. Giants would be Ia-0, Ia, Ib, Iab, II, III, IV.\n",
    "\n",
    "\n",
    "We plan to re-calculate absolute magnitude using the standard astrophysical formula<a name=\"absmag\"></a>[<sup>[1]</sup>](#absmag), which will be quite simple as the necessary parameters are parallax and apparent magnitude, both of which are columns in our dataset. We will do this just to ensure the most accurate values for absolute magnitude, as it is our most important indicator of luminosity/brightness of each star. Furthermore, the author of the dataset suggested that we use the standard error of parallax column to determine what error we deem too high, and drop the columns with errors greater than or equal to the value we chose as too high. An inaccurate measure of parallax may cause our calculations of absolute magnitude to also be inaccurate (as absolute magnitude is dependent on distance from the Earth to the star, i.e parallax), which could cause our model to wrongly classify dwarfs as giants and vice versa. "
   ]
  },
  {
   "cell_type": "markdown",
   "metadata": {},
   "source": [
    "# Proposed Solution\n",
    "\n",
    "We plan to use K-nearest-neighbors. Because stars are classified on physical features, we believe that similar stars will have similar features, which will work well for KNN. We should be able to plot out our stars and find that the most similar stars closest to it should be of the same class. In order to test our model, we plan to split our data into thirds for training, validation, and testing. This should leave roughly 1000 samples each. We plan to test our model using K-fold cross validation within these sets to have our model generalize well.\n",
    "Similar (yet different) machine learning projects that sought to classify bright bodies as stars, galaxies, or quasars used Random Forest, so we plan to compare the performance of KNN and Random Forest to determine which algorithm/model performs better.\n",
    "\n",
    "The general plan is as follows:\n",
    "1. Clean the dataset using pandas\n",
    "2. Split the dataset into training, validation, and testing sets.\n",
    "3. Using K-fold cross validation on the training set, use scikit-learn's library to use a KNN algorithm to train on the training set \n",
    "4. Validate to tune parameters on the validation set\n",
    "5. Test on the training set using a confusion matrix"
   ]
  },
  {
   "cell_type": "markdown",
   "metadata": {},
   "source": [
    "# Evaluation Metrics\n",
    "\n",
    "Because there are no reprecussions to misclassifying a star, we want to do as best as we can in identifying dwarf stars correctly and identifying non-dwarf stars correctly. One evaluation metric we can use is accuracy. Our data is balanced and there are 19776 'giant' stars and 19776 'dwarf' stars, and since neither false positives nor false negatives are particularly costly in our problem, accuracy may provide a good metric for us to evaluate our model. Since we do not need to minimize false positives or false negatives due to them being costly, precision and recall may not be appropriate methods.\n",
    "\n",
    "Accuracy is the most appropriate evaluation metric in this case, and it provides a simple way to compare the performance of different machine learning algorithms (KNN, Random Forest)."
   ]
  },
  {
   "cell_type": "markdown",
   "metadata": {},
   "source": [
    "# Ethics & Privacy"
   ]
  },
  {
   "cell_type": "markdown",
   "metadata": {},
   "source": [
    "Given that our data and results is solely related to stars, we do not forsee potential ethical issues that would result in negative outcomes for other people. The dataset we are using is also public, so there should be no privacy concerns with the data either.\n",
    "\n",
    "One potential concern could be the use of our results in the future. If the decisions of space travel are dependent upon the classification of stars in the future, the accuracy of our model would be important for deciding where to go. For this reason, we would like to note that we did not have space travel in mind when working on this project, and this model should not be used for decisions that could impact people's lives."
   ]
  },
  {
   "cell_type": "markdown",
   "metadata": {},
   "source": [
    "# Team Expectations "
   ]
  },
  {
   "cell_type": "markdown",
   "metadata": {},
   "source": [
    "* Respond to project-related messages within 24 hours\n",
    "* Be respectful and honest with each other\n",
    "* Meetings should be scheduled to accommodate as many members as possible according to their availabilities\n",
    "* Cooperate with team members and be willing to help each other\n",
    "* Team members should try to attend and participate in all meetings\n",
    "* Openly communicate with other teammates\n",
    "* Everyone should have exposure to and be involved in every part of the project\n",
    "* Give constructive feedback, but do not attack team members or rip apart their code"
   ]
  },
  {
   "cell_type": "markdown",
   "metadata": {},
   "source": [
    "# Project Timeline Proposal"
   ]
  },
  {
   "cell_type": "markdown",
   "metadata": {},
   "source": [
    "| Meeting Date  | Meeting Time| Complete During Meeting  | |\n",
    "|---|---|---|---|\n",
    "| 2/21  |  10 AM |  Find datasets | Finish Project Proposal |\n",
    "| 2/25  |  10 AM |  Solidify datasets |\n",
    "| 2/28  | 10 AM  | Data cleaning with pandas, plan analysis methods |\n",
    "| 3/4  | 10 AM  | Algorithm analysis using methods from previous meeting |\n",
    "| 3/7  | 10 AM  | Split and organize analysis into sections to prepare for final project submission|\n",
    "| 3/11  | 10 AM  | Write-up final project |\n",
    "| 3/14  | Before 11:59 PM  | NA | Turn in Final Project  |"
   ]
  },
  {
   "cell_type": "markdown",
   "metadata": {},
   "source": [
    "# Footnotes\n",
    "<a name=\"absmag\"></a>1.[^](#absmag):  (Undated) Absolute Magnitude. *Swinburne Centre for Astrophysics and Supercomputing*. https://astronomy.swin.edu.au/cosmos/a/Absolute+Magnitude<br> \n",
    "<a name=\"Mahalakshminote\"></a>2.[^](#Mahalakshmi):Mahalakshmi G S, Swadesh B, Aswin RRV et al. (29 Aug 2022) Classification and Feature Prediction of Star, Galaxies, Quasars, and Galaxy Morphologies Using Machine Learning, PREPRINT (Version 1) https://doi.org/10.21203/rs.3.rs-1885343/v1<br> \n",
    "<a name=\"Kongnote\"></a>3.[^](#Kong):Kong, Linghe, et al. Big Data in Astronomy, ScienceDirect, 2020, https://doi.org/10.1016/C2018-0-04415-1.<br> \n",
    "<a name=\"Wikipedianote\"></a>4.[^](#Wikipedia):”Stellar Classification” Wikipedia, The Free Encyclopedia, Wikimedia Foundation, 15 Feb 2023, https://en.wikipedia.org/wiki/Stellar_classification<br> \n"
   ]
  },
  {
   "cell_type": "code",
   "execution_count": null,
   "metadata": {},
   "outputs": [],
   "source": []
  }
 ],
 "metadata": {
  "kernelspec": {
   "display_name": "Python 3 (ipykernel)",
   "language": "python",
   "name": "python3"
  },
  "language_info": {
   "codemirror_mode": {
    "name": "ipython",
    "version": 3
   },
   "file_extension": ".py",
   "mimetype": "text/x-python",
   "name": "python",
   "nbconvert_exporter": "python",
   "pygments_lexer": "ipython3",
   "version": "3.9.5"
  }
 },
 "nbformat": 4,
 "nbformat_minor": 2
}
